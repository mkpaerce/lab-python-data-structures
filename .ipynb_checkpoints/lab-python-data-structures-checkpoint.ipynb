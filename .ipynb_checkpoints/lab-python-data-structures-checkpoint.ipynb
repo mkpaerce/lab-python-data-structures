{
 "cells": [
  {
   "cell_type": "markdown",
   "metadata": {
    "tags": []
   },
   "source": [
    "# Lab | Data Structures "
   ]
  },
  {
   "cell_type": "markdown",
   "metadata": {},
   "source": [
    "## Exercise: Managing Customer Orders\n",
    "\n",
    "As part of a business venture, you are starting an online store that sells various products. To ensure smooth operations, you need to develop a program that manages customer orders and inventory.\n",
    "\n",
    "Follow the steps below to complete the exercise:\n",
    "\n",
    "1. Define a list called `products` that contains the following items: \"t-shirt\", \"mug\", \"hat\", \"book\", \"keychain\".\n",
    "\n",
    "2. Create an empty dictionary called `inventory`.\n",
    "\n",
    "3. Ask the user to input the quantity of each product available in the inventory. Use the product names from the `products` list as keys in the `inventory` dictionary and assign the respective quantities as values.\n",
    "\n",
    "4. Create an empty set called `customer_orders`.\n",
    "\n",
    "5. Ask the user to input the name of three products that a customer wants to order (from those in the products list, meaning three products out of \"t-shirt\", \"mug\", \"hat\", \"book\" or \"keychain\". Add each product name to the `customer_orders` set.\n",
    "\n",
    "6. Print the products in the `customer_orders` set.\n",
    "\n",
    "7. Calculate the following order statistics:\n",
    "   - Total Products Ordered: The total number of products in the `customer_orders` set.\n",
    "   - Percentage of Products Ordered: The percentage of products ordered compared to the total available products.\n",
    "   \n",
    "   Store these statistics in a tuple called `order_status`.\n",
    "\n",
    "8. Print the order statistics using the following format:\n",
    "   ```\n",
    "   Order Statistics:\n",
    "   Total Products Ordered: <total_products_ordered>\n",
    "   Percentage of Products Ordered: <percentage_ordered>% \n",
    "   ```\n",
    "\n",
    "9. Update the inventory by subtracting 1 from the quantity of each product. Modify the `inventory` dictionary accordingly.\n",
    "\n",
    "10. Print the updated inventory, displaying the quantity of each product on separate lines.\n",
    "\n",
    "Solve the exercise by implementing the steps using the Python concepts of lists, dictionaries, sets, and basic input/output operations. "
   ]
  },
  {
   "cell_type": "code",
   "execution_count": 58,
   "metadata": {},
   "outputs": [],
   "source": [
    "#Answers Below\n",
    "\n",
    "#1. \n",
    "\n",
    "products = [\"t-shirt\", \"mug\", \"hat\", \"book\", \"keychain\"]"
   ]
  },
  {
   "cell_type": "code",
   "execution_count": 14,
   "metadata": {},
   "outputs": [],
   "source": [
    "#2. \n",
    "\n",
    "inventory = {}"
   ]
  },
  {
   "cell_type": "code",
   "execution_count": 50,
   "metadata": {},
   "outputs": [
    {
     "name": "stdin",
     "output_type": "stream",
     "text": [
      "Enter the quantity available for hats:  6\n",
      "Enter the quantity available for mugs:  5\n",
      "Enter the quantity available for books:  10\n",
      "Enter the quantity available for keychains:  4\n"
     ]
    },
    {
     "name": "stdout",
     "output_type": "stream",
     "text": [
      "\n",
      "Final Inventory:\n",
      "hats: 6\n",
      "mugs: 5\n",
      "books: 10\n",
      "keychains: 4\n"
     ]
    }
   ],
   "source": [
    "#3. \n",
    "def add_to_inventory(inventory, products):\n",
    "    for product in products:\n",
    "        while True:\n",
    "            quantity_str = input(\"Enter the quantity available for \" + product + \": \")\n",
    "\n",
    "            try:\n",
    "                quantity = int(quantity_str)\n",
    "                \n",
    "                inventory[product] = quantity\n",
    "                break \n",
    "            except ValueError:\n",
    "                print(\"Invalid input. Please enter a numerical value for the quantity.\")\n",
    "\n",
    "    print(\"\\nFinal Inventory:\")\n",
    "    for product in inventory:\n",
    "        print(product + \": \" + str(inventory[product]))\n",
    "\n",
    "products = ['hats', 'mugs', 'books', 'keychains']\n",
    "\n",
    "inventory = {}\n",
    "\n",
    "add_to_inventory(inventory, products)\n"
   ]
  },
  {
   "cell_type": "code",
   "execution_count": 38,
   "metadata": {},
   "outputs": [],
   "source": [
    "#4. \n",
    "customer_orders = set()"
   ]
  },
  {
   "cell_type": "code",
   "execution_count": 46,
   "metadata": {},
   "outputs": [
    {
     "name": "stdout",
     "output_type": "stream",
     "text": [
      "Please choose three items from the following: 'hat', 'mug', 't-shirt', 'keychain'.\n"
     ]
    },
    {
     "name": "stdin",
     "output_type": "stream",
     "text": [
      "Enter item 1:  hat\n",
      "Enter item 2:  mug\n",
      "Enter item 3:  t-shirt\n"
     ]
    }
   ],
   "source": [
    "#5.\n",
    "customer_orders = set()\n",
    "\n",
    "print(\"Please choose three items from the following: 'hat', 'mug', 't-shirt', 'keychain'.\")\n",
    "\n",
    "for i in range(3):\n",
    "    item = input(f\"Enter item {i+1}: \")\n",
    "\n",
    "    while item not in ('hat', 'mug', 't-shirt', 'keychain'):\n",
    "        print(\"Invalid item. Please choose from 'hat', 'mug', 't-shirt', 'keychain'.\")\n",
    "        item = input(f\"Enter item {i+1}: \")\n",
    "\n",
    "    customer_orders.add(item)\n"
   ]
  },
  {
   "cell_type": "code",
   "execution_count": 48,
   "metadata": {},
   "outputs": [
    {
     "name": "stdout",
     "output_type": "stream",
     "text": [
      "\n",
      "Customer Orders:\n",
      "t-shirt\n",
      "mug\n",
      "hat\n"
     ]
    }
   ],
   "source": [
    "#6.\n",
    "\n",
    "print(\"\\nCustomer Orders:\")\n",
    "for order in customer_orders:\n",
    "    print(order)"
   ]
  },
  {
   "cell_type": "code",
   "execution_count": 62,
   "metadata": {},
   "outputs": [
    {
     "name": "stdout",
     "output_type": "stream",
     "text": [
      "Order Status:\n",
      "Total Products Ordered: 3\n",
      "Percentage of Products Ordered: 12.00%\n"
     ]
    }
   ],
   "source": [
    "#7. & #8.\n",
    "\n",
    "def calculate_order_statistics(customer_orders, inventory):\n",
    "    total_products_ordered = len(customer_orders)\n",
    "    \n",
    "    total_available_products = sum(inventory.values())\n",
    "    \n",
    "    if total_available_products > 0:\n",
    "        percentage_products_ordered = (total_products_ordered / total_available_products) * 100\n",
    "    else:\n",
    "        percentage_products_ordered = 0\n",
    "    \n",
    "    order_status = (total_products_ordered, percentage_products_ordered)\n",
    "    \n",
    "    return order_status\n",
    "\n",
    "order_status = calculate_order_statistics(customer_orders, inventory)\n",
    "\n",
    "print(\"Order Status:\")\n",
    "print(\"Total Products Ordered:\", order_status[0])\n",
    "print(f\"Percentage of Products Ordered: {order_status[1]:.2f}%\")"
   ]
  },
  {
   "cell_type": "code",
   "execution_count": 64,
   "metadata": {},
   "outputs": [
    {
     "name": "stdout",
     "output_type": "stream",
     "text": [
      "Updated Inventory:\n",
      "hats: 5\n",
      "mugs: 4\n",
      "books: 9\n",
      "keychains: 3\n"
     ]
    }
   ],
   "source": [
    "#9. & #10.\n",
    "\n",
    "for product in inventory:\n",
    "    if inventory[product] > 0:\n",
    "        inventory[product] -= 1\n",
    "\n",
    "print(\"Updated Inventory:\")\n",
    "for product, quantity in inventory.items():\n",
    "    print(f\"{product}: {quantity}\")"
   ]
  },
  {
   "cell_type": "code",
   "execution_count": null,
   "metadata": {},
   "outputs": [],
   "source": []
  }
 ],
 "metadata": {
  "kernelspec": {
   "display_name": "Python [conda env:base] *",
   "language": "python",
   "name": "conda-base-py"
  },
  "language_info": {
   "codemirror_mode": {
    "name": "ipython",
    "version": 3
   },
   "file_extension": ".py",
   "mimetype": "text/x-python",
   "name": "python",
   "nbconvert_exporter": "python",
   "pygments_lexer": "ipython3",
   "version": "3.12.7"
  }
 },
 "nbformat": 4,
 "nbformat_minor": 4
}
